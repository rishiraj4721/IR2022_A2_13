{
 "cells": [
  {
   "cell_type": "code",
   "metadata": {
    "tags": [],
    "cell_id": "167e74bf-0e8d-4107-aac9-128c14665e6a",
    "deepnote_to_be_reexecuted": false,
    "source_hash": "370a8f71",
    "execution_start": 1649526848262,
    "execution_millis": 1939,
    "deepnote_cell_type": "code",
    "deepnote_cell_height": 170.60000610351562
   },
   "source": "import numpy as np\nimport math\nimport nltk\nimport matplotlib.pyplot as plt\n\nfrom collections import Counter",
   "execution_count": 1,
   "outputs": []
  },
  {
   "cell_type": "markdown",
   "source": "### 3. Compute nDCG",
   "metadata": {
    "cell_id": "cad5c2a98b554ada9ffdc0dbd113a139",
    "tags": [],
    "is_collapsed": false,
    "deepnote_cell_type": "text-cell-h3"
   }
  },
  {
   "cell_type": "code",
   "metadata": {
    "cell_id": "63c7bfa0d3d54716868b625ebdac24c3",
    "tags": [],
    "deepnote_to_be_reexecuted": false,
    "source_hash": "24c1aa35",
    "allow_embed": false,
    "execution_start": 1649526850207,
    "execution_millis": 2804,
    "deepnote_cell_type": "code",
    "deepnote_cell_height": 291.3999938964844
   },
   "source": "file_inp = open(\"IR-assignment-2-data.txt\",'r')\nindex = 0\nrelevancescore = {}\n\nfor i in file_inp.readlines():\n    # print(i)\n    tokens = i.split()\n    if tokens[1]=='qid:4':\n        relevancescore[index] = tokens[0]\n        index+=1\nprint(index)",
   "execution_count": 2,
   "outputs": [
    {
     "name": "stdout",
     "text": "103\n",
     "output_type": "stream"
    }
   ]
  },
  {
   "cell_type": "code",
   "metadata": {
    "cell_id": "801015cfb02a45d097ccab75efb5691a",
    "tags": [],
    "deepnote_to_be_reexecuted": false,
    "source_hash": "701e9d88",
    "execution_start": 1649527126052,
    "execution_millis": 0,
    "deepnote_cell_type": "code",
    "deepnote_cell_height": 206.60000610351562
   },
   "source": "def DCG(relevancescore,k):\n    it_len = k\n    if k==0: it_len = len(relevancescore)\n    score = 0\n    for i in range(1,it_len+1):\n        # score += (float(relevancescore[i-1])/math.log(i+1,2))\n        score += ((2**float(relevancescore[i-1])-1)/math.log(i+1,2))\n    return score",
   "execution_count": 12,
   "outputs": []
  },
  {
   "cell_type": "code",
   "metadata": {
    "cell_id": "514d7d0ecc9f4b4db328a89ecd9a6b14",
    "tags": [],
    "deepnote_to_be_reexecuted": false,
    "source_hash": "c8dacc1b",
    "execution_start": 1649527127519,
    "execution_millis": 5,
    "owner_user_id": "7aceb5e9-694e-489d-827f-fa7d6774ae97",
    "deepnote_cell_type": "code",
    "deepnote_cell_height": 945.4000244140625,
    "deepnote_output_heights": [
     null,
     309
    ]
   },
   "source": "relv_list = list(relevancescore.values())\n\ncount = Counter(relv_list)\n# relv_uniq = list(dict(sorted(count.items())).values())\nrelv_uniq = sorted(count.items())\nprint(relv_uniq)\n\nrelevancescore_sorted = dict(sorted(relevancescore.items(), key=lambda  kv:kv[1],reverse=True))\nrelv_list_sorted = list(relevancescore_sorted.values())\n\n# NDCG for whole dataset\ndcg = DCG(relv_list,0)\nidcg = DCG(relv_list_sorted,0)\n\nndcg = dcg/idcg\nprint(\"Whole dataset\")\nprint(\"DCG =\",dcg,\", IDCG =\",idcg,\", NDCG =\",ndcg)\n\n# NDCG at 50\ndcg = DCG(relv_list,50)\nidcg = DCG(relv_list_sorted,50)\n\nndcg = dcg/idcg\nprint(\"NDCG at 50\")\nprint(\"DCG =\",dcg,\", IDCG =\",idcg,\", NDCG =\",ndcg)",
   "execution_count": 13,
   "outputs": [
    {
     "name": "stdout",
     "text": "[('0', 59), ('1', 26), ('2', 17), ('3', 1)]\nWhole dataset\nDCG = 16.768935581665193 , IDCG = 28.98846753873482 , NDCG = 0.5784691984582591\nNDCG at 50\nDCG = 10.323516383590077 , IDCG = 28.98846753873482 , NDCG = 0.35612494416255847\n",
     "output_type": "stream"
    }
   ]
  },
  {
   "cell_type": "markdown",
   "source": "### 2. Query url pairs",
   "metadata": {
    "cell_id": "2cdbb0e0a3b14ec9966ffa67c21f893f",
    "tags": [],
    "is_collapsed": false,
    "deepnote_cell_type": "text-cell-h3"
   }
  },
  {
   "cell_type": "code",
   "metadata": {
    "cell_id": "665948cd03d548c09a978d37b5580a7c",
    "tags": [],
    "deepnote_to_be_reexecuted": false,
    "source_hash": "b623e53d",
    "execution_start": 1649526853028,
    "execution_millis": 2,
    "deepnote_cell_type": "code",
    "deepnote_cell_height": 80.60000610351562
   },
   "source": "",
   "execution_count": 4,
   "outputs": []
  },
  {
   "cell_type": "markdown",
   "source": "### 4. Precision-Recall curve for query “qid:4”",
   "metadata": {
    "cell_id": "b0f830e0b2ea418192ceb52e76131d3c",
    "tags": [],
    "is_collapsed": false,
    "deepnote_cell_type": "text-cell-h3"
   }
  },
  {
   "cell_type": "code",
   "metadata": {
    "cell_id": "1614ef6498704c82b1294173d5fb25bc",
    "tags": [],
    "deepnote_to_be_reexecuted": false,
    "source_hash": "b6b90b05",
    "execution_start": 1649526853035,
    "execution_millis": 2228,
    "deepnote_cell_type": "code",
    "deepnote_cell_height": 345.3999938964844
   },
   "source": "file_inp = open(\"IR-assignment-2-data.txt\",'r')\nqid = []\ntotal = 0\nfor i in file_inp.readlines():\n    tokens = i.split()\n    if tokens[1]=='qid:4':\n        tfidf_doc = float(tokens[76].split(\":\")[1])\n        temp = 0\n        if int(tokens[0])>0:\n            temp = 1\n            total+=1\n        qid.append([temp,tfidf_doc])\n\nprint(total)",
   "execution_count": 5,
   "outputs": [
    {
     "name": "stdout",
     "text": "44\n",
     "output_type": "stream"
    }
   ]
  },
  {
   "cell_type": "code",
   "metadata": {
    "cell_id": "f52733b287a1441b9e71c88c35c35546",
    "tags": [],
    "deepnote_to_be_reexecuted": false,
    "source_hash": "6d54d6e4",
    "execution_start": 1649526855272,
    "execution_millis": 3,
    "deepnote_cell_type": "code",
    "deepnote_cell_height": 362.20001220703125
   },
   "source": "qid=sorted(qid,key=lambda x:x[1],reverse=True)\nprint(qid)\ncount = 1\n\nprecision = []\nrecall = []\nclassified = 0\n\nfor m in qid:\n    precision.append(classified/count)\n    recall.append(classified/total)\n    if m[0] == 1:\n        classified += 1\n    count += 1",
   "execution_count": 6,
   "outputs": [
    {
     "name": "stdout",
     "text": "[[0, 972.826451], [0, 612.893205], [0, 571.500533], [0, 538.388954], [1, 528.520116], [0, 463.099129], [1, 439.396463], [1, 411.010633], [0, 316.319283], [1, 311.705149], [0, 305.102064], [1, 296.023694], [1, 292.184568], [1, 270.13233], [1, 237.21632], [1, 237.21632], [0, 226.444023], [1, 217.848266], [0, 212.401296], [1, 202.442155], [0, 201.720933], [1, 200.840161], [0, 200.840161], [1, 198.480212], [1, 192.953467], [1, 188.936782], [0, 188.129935], [0, 187.934366], [0, 186.375414], [0, 185.617459], [0, 180.720002], [1, 180.24324], [0, 177.168378], [1, 176.875026], [0, 176.000104], [0, 169.844071], [1, 166.683125], [1, 161.455583], [0, 161.455583], [1, 161.15638], [1, 157.05992], [1, 156.301965], [0, 148.415271], [0, 148.415271], [0, 144.564444], [0, 143.769297], [1, 143.445062], [0, 142.9683], [1, 142.589323], [0, 142.589323], [1, 142.038637], [1, 140.479685], [0, 130.655061], [1, 121.96152], [1, 121.814843], [0, 121.007996], [1, 108.548081], [1, 103.400313], [0, 98.418404], [1, 98.148911], [0, 95.257458], [0, 95.257458], [1, 94.958714], [0, 91.717534], [0, 91.160998], [0, 90.53171], [1, 89.877389], [0, 88.171761], [1, 85.805962], [0, 85.634253], [1, 84.625987], [0, 84.625987], [1, 84.625987], [0, 84.625987], [1, 84.625987], [0, 84.625987], [0, 84.625987], [1, 81.947653], [1, 81.140806], [1, 81.140806], [0, 79.630746], [1, 77.167163], [0, 76.360315], [0, 75.987188], [0, 74.434086], [0, 73.279603], [0, 71.646268], [0, 70.466293], [0, 70.460443], [1, 69.811973], [0, 68.100494], [0, 43.297629], [1, 42.227139], [0, 22.480108], [0, 22.419515], [0, 19.313312], [0, 18.133337], [1, 18.133337], [0, 15.773388], [0, 14.972391], [0, 14.972391], [0, 3.539923], [0, 3.539923]]\n",
     "output_type": "stream"
    }
   ]
  },
  {
   "cell_type": "code",
   "metadata": {
    "cell_id": "985a5fa16bcf403caa06b5334433d1bd",
    "tags": [],
    "deepnote_to_be_reexecuted": false,
    "source_hash": "9300861",
    "execution_start": 1649526855277,
    "execution_millis": 249,
    "deepnote_cell_type": "code",
    "deepnote_cell_height": 448.3999938964844,
    "deepnote_output_heights": [
     280
    ]
   },
   "source": "plt.xlabel('Precision')\nplt.ylabel('Recall')\nplt.title('Precision-Recall Curve')\nplt.plot(recall, precision)\nplt.show()",
   "execution_count": 7,
   "outputs": [
    {
     "data": {
      "text/plain": "<Figure size 432x288 with 1 Axes>",
      "image/png": "[encoded data removed]"
     },
     "metadata": {
      "needs_background": "light",
      "image/png": {
       "width": 386,
       "height": 278
      }
     },
     "output_type": "display_data"
    }
   ]
  },
  {
   "cell_type": "markdown",
   "source": "<a style='text-decoration:none;line-height:16px;display:flex;color:#5B5B62;padding:10px;justify-content:end;' href='https://deepnote.com?utm_source=created-in-deepnote-cell&projectId=5be6439c-c857-493e-9eef-529c4c49e2bf' target=\"_blank\">\n<img alt='Created in deepnote.com' style='display:inline;max-height:16px;margin:0px;margin-right:7.5px;' src='data:image/svg+xml;base64,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' > </img>\nCreated in <span style='font-weight:600;margin-left:4px;'>Deepnote</span></a>",
   "metadata": {
    "tags": [],
    "created_in_deepnote_cell": true,
    "deepnote_cell_type": "markdown"
   }
  }
 ],
 "nbformat": 4,
 "nbformat_minor": 2,
 "metadata": {
  "orig_nbformat": 2,
  "deepnote": {
   "is_reactive": false
  },
  "deepnote_notebook_id": "68f0694c-7edb-4cf3-8b6d-8ead13bdad0c",
  "deepnote_execution_queue": []
 }
}