{
 "cells": [
  {
   "cell_type": "code",
   "metadata": {
    "tags": [],
    "cell_id": "e5a7a41d-bfc7-4ee0-ab97-9f7cd3fab8a3",
    "deepnote_to_be_reexecuted": false,
    "source_hash": "63d58b98",
    "execution_start": 1649258858352,
    "execution_millis": 177,
    "deepnote_cell_type": "code",
    "deepnote_cell_height": 503.3999938964844
   },
   "source": "from os import listdir\nfrom sklearn.metrics import accuracy_score, confusion_matrix\nfrom sklearn.model_selection import train_test_split\nimport pandas as pd\n\nfrom nltk.corpus import stopwords\nfrom nltk.stem import PorterStemmer, WordNetLemmatizer\nimport nltk\n\nnltk.download('stopwords')\nnltk.download('punkt')\nnltk.download('wordnet')\nnltk.download('omw-1.4')\n\nstop_words = stopwords.words('english')",
   "execution_count": null,
   "outputs": [
    {
     "name": "stderr",
     "text": "[nltk_data] Downloading package stopwords to /root/nltk_data...\n[nltk_data]   Package stopwords is already up-to-date!\n[nltk_data] Downloading package punkt to /root/nltk_data...\n[nltk_data]   Package punkt is already up-to-date!\n[nltk_data] Downloading package wordnet to /root/nltk_data...\n[nltk_data]   Package wordnet is already up-to-date!\n[nltk_data] Downloading package omw-1.4 to /root/nltk_data...\n[nltk_data]   Package omw-1.4 is already up-to-date!\n",
     "output_type": "stream"
    }
   ]
  },
  {
   "cell_type": "code",
   "metadata": {
    "tags": [],
    "cell_id": "00001-e2a978f1-f504-42e3-ac17-eb6ae3a45c03",
    "deepnote_to_be_reexecuted": false,
    "source_hash": "cb384f32",
    "execution_start": 1649258765804,
    "execution_millis": 16,
    "deepnote_cell_type": "code",
    "deepnote_cell_height": 314.6000061035156
   },
   "source": "def preprocessing(text_file):\n    tokenizer = nltk.RegexpTokenizer(r\"\\w+\")    # remove punctuations\n    tokens = tokenizer.tokenize(text_file)    # token the text\n\n    tokens = [token.lower() for token in tokens]    # lower case\n    tokens = [word for word in tokens if not word in stop_words]    # remove stop words\n\n    stemmer = PorterStemmer()    #stemming tokens\n    tokens = [stemmer.stem(word) for word in tokens]\n    \n    lemmatizer = WordNetLemmatizer()   #lemmatizing tokens\n    tokens = [lemmatizer.lemmatize(word) for word in tokens]\n    \n    return tokens",
   "execution_count": null,
   "outputs": []
  },
  {
   "cell_type": "code",
   "metadata": {
    "cell_id": "00002-5f78593e-925d-4aaf-8b89-bce15181e0c9",
    "deepnote_to_be_reexecuted": false,
    "source_hash": "3cc2cbdf",
    "execution_start": 1649258765844,
    "execution_millis": 4,
    "deepnote_cell_type": "code",
    "deepnote_cell_height": 404.6000061035156
   },
   "source": "# get a list of all files in the directory\ndef getFilesList(folder):\n    dir_list = listdir(folder)\n    files = {}\n    for i in dir_list:\n        path = folder+i+\"/\"\n        diri = listdir(path)\n        # print(len(diri))\n        # print(diri)\n        files[i] = []\n        for j in diri:\n            filepath = path+j\n            files[i].append(filepath)\n            # print(filepath)\n            # break\n\n    # for i in files:\n    #     print(len(files[i]))\n    return files",
   "execution_count": null,
   "outputs": []
  },
  {
   "cell_type": "code",
   "metadata": {
    "cell_id": "00003-2aa80590-9ebf-4965-830e-35e4f041bcb2",
    "deepnote_to_be_reexecuted": false,
    "source_hash": "2c5d928",
    "execution_start": 1649258786156,
    "execution_millis": 10,
    "deepnote_cell_type": "code",
    "deepnote_cell_height": 458.6000061035156
   },
   "source": "folderpath = \"20_newsgroups/\"\n\ndef files_read_preprocess(folderpath):\n    flist = getFilesList(folderpath)\n    # textFolderwise = {}\n    alltextfromfiles = []\n    textlabels = []\n    for folder in flist:\n        # textFolderwise[folder] = []\n        for file in flist[folder]:\n            # print(file)\n            text = open(file,'r',encoding='ISO-8859-1').read()\n            tokens = preprocessing(text)\n            # textFolderwise[folder].append(tokens)\n            alltextfromfiles.append(tokens)\n            textlabels.append(folder)\n\n    print(len(alltextfromfiles))\n    print(len(textlabels))\n\n    dataset = pd.DataFrame([alltextfromfiles,textlabels]).T\n    dataset.to_pickle(\"q3_preprocessed\")",
   "execution_count": null,
   "outputs": []
  },
  {
   "cell_type": "code",
   "metadata": {
    "cell_id": "9fce7b1a16014013bcb27259802876dd",
    "tags": [],
    "deepnote_to_be_reexecuted": false,
    "source_hash": "76b27c3b",
    "execution_start": 1649259018246,
    "execution_millis": 565,
    "deepnote_cell_type": "code",
    "deepnote_cell_height": 479.3999938964844
   },
   "source": "# dataset = files_read_preprocess(folderpath)\ndataset = pd.read_pickle(\"q3_preprocessed\")\nprint(dataset)\n\ny = dataset.pop(1)\nX = dataset\nX_train, X_test, y_train, y_test = train_test_split(X, y, test_size=0.2, random_state=42)",
   "execution_count": null,
   "outputs": [
    {
     "name": "stdout",
     "text": "                                                      0                 1\n0     [path, cantaloup, srv, c, cmu, edu, da, news, ...  rec.sport.hockey\n1     [newsgroup, rec, sport, hockey, path, cantalou...  rec.sport.hockey\n2     [path, cantaloup, srv, c, cmu, edu, da, news, ...  rec.sport.hockey\n3     [newsgroup, rec, sport, hockey, path, cantalou...  rec.sport.hockey\n4     [newsgroup, rec, sport, hockey, path, cantalou...  rec.sport.hockey\n...                                                 ...               ...\n4995  [xref, cantaloup, srv, c, cmu, edu, sci, med, ...           sci.med\n4996  [path, cantaloup, srv, c, cmu, edu, rochest, u...           sci.med\n4997  [xref, cantaloup, srv, c, cmu, edu, sci, med, ...           sci.med\n4998  [path, cantaloup, srv, c, cmu, edu, crabappl, ...           sci.med\n4999  [xref, cantaloup, srv, c, cmu, edu, sci, med, ...           sci.med\n\n[5000 rows x 2 columns]\n",
     "output_type": "stream"
    }
   ]
  },
  {
   "cell_type": "code",
   "metadata": {
    "cell_id": "5ecf77a57d47449fbaeeff38e836a0c1",
    "tags": [],
    "deepnote_cell_type": "code",
    "deepnote_cell_height": 281.6000061035156
   },
   "source": "def termfrequency_tf(labels,mvar):\n    class_frequency = {}\n    class_count = {}\n    counter = 0\n    for i in labels:\n        current_count = len(Counter(m[i]))\n        class_count[i] = current_count\n        counter += current_count\n        ll = Counter(m[i])\n        for j in ll:\n            class_frequency[i, j] = ll[j]\n        \n    return class_frequency,class_count",
   "execution_count": null,
   "outputs": []
  },
  {
   "cell_type": "code",
   "metadata": {
    "cell_id": "dc02dbe93b6d4c76b4be3589ae5da63c",
    "tags": [],
    "owner_user_id": "7aceb5e9-694e-489d-827f-fa7d6774ae97",
    "deepnote_cell_type": "code",
    "deepnote_cell_height": 65.60000610351562
   },
   "source": "",
   "execution_count": null,
   "outputs": []
  },
  {
   "cell_type": "markdown",
   "source": "<a style='text-decoration:none;line-height:16px;display:flex;color:#5B5B62;padding:10px;justify-content:end;' href='https://deepnote.com?utm_source=created-in-deepnote-cell&projectId=5be6439c-c857-493e-9eef-529c4c49e2bf' target=\"_blank\">\n<img alt='Created in deepnote.com' style='display:inline;max-height:16px;margin:0px;margin-right:7.5px;' src='data:image/svg+xml;base64,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' > </img>\nCreated in <span style='font-weight:600;margin-left:4px;'>Deepnote</span></a>",
   "metadata": {
    "tags": [],
    "created_in_deepnote_cell": true,
    "deepnote_cell_type": "markdown"
   }
  }
 ],
 "nbformat": 4,
 "nbformat_minor": 2,
 "metadata": {
  "deepnote": {
   "is_reactive": false
  },
  "deepnote_execution_queue": [],
  "deepnote_notebook_id": "8f1e2057-2fee-4b81-8034-42aa0b9a6336",
  "interpreter": {
   "hash": "3a0c17cf44ae63ecae8bbfe3dd930ce5cd52d8df6fc82844b03d40572a42217b"
  },
  "kernelspec": {
   "display_name": "Python 3.10.4 64-bit (windows store)",
   "language": "python",
   "name": "python3"
  },
  "language_info": {
   "codemirror_mode": {
    "name": "ipython",
    "version": 3
   },
   "file_extension": ".py",
   "mimetype": "text/x-python",
   "name": "python",
   "nbconvert_exporter": "python",
   "pygments_lexer": "ipython3",
   "version": "3.10.4"
  },
  "orig_nbformat": 2
 }
}