{
 "cells": [
  {
   "cell_type": "code",
   "execution_count": 1,
   "metadata": {
    "cell_id": "60688cd81e3c4b7e89741147453a7928",
    "deepnote_cell_height": 209.60000610351562,
    "deepnote_cell_type": "code",
    "tags": []
   },
   "outputs": [
    {
     "name": "stderr",
     "output_type": "stream",
     "text": [
      "[nltk_data] Downloading package stopwords to\n",
      "[nltk_data]     C:\\Users\\drbn\\AppData\\Roaming\\nltk_data...\n",
      "[nltk_data]   Package stopwords is already up-to-date!\n",
      "[nltk_data] Downloading package punkt to\n",
      "[nltk_data]     C:\\Users\\drbn\\AppData\\Roaming\\nltk_data...\n",
      "[nltk_data]   Package punkt is already up-to-date!\n",
      "[nltk_data] Downloading package wordnet to\n",
      "[nltk_data]     C:\\Users\\drbn\\AppData\\Roaming\\nltk_data...\n",
      "[nltk_data]   Package wordnet is already up-to-date!\n",
      "[nltk_data] Downloading package omw-1.4 to\n",
      "[nltk_data]     C:\\Users\\drbn\\AppData\\Roaming\\nltk_data...\n",
      "[nltk_data]   Unzipping corpora\\omw-1.4.zip.\n"
     ]
    }
   ],
   "source": [
    "from os import listdir\n",
    "\n",
    "from nltk.corpus import stopwords\n",
    "from nltk.stem import PorterStemmer, WordNetLemmatizer\n",
    "import nltk\n",
    "\n",
    "nltk.download('stopwords')\n",
    "nltk.download('punkt')\n",
    "nltk.download('wordnet')\n",
    "nltk.download('omw-1.4')\n",
    "\n",
    "stop_words = stopwords.words('english')"
   ]
  },
  {
   "cell_type": "code",
   "execution_count": 2,
   "metadata": {
    "cell_id": "97d9fe65f2e44d0bbeb4eb5f4414fc28",
    "deepnote_cell_height": 281.6000061035156,
    "deepnote_cell_type": "code",
    "tags": []
   },
   "outputs": [],
   "source": [
    "def preprocessing(text_file):\n",
    "    tokenizer = nltk.RegexpTokenizer(r\"\\w+\")    # remove punctuations\n",
    "    tokens = tokenizer.tokenize(text_file)    # token the text\n",
    "\n",
    "    tokens = [token.lower() for token in tokens]    # lower case\n",
    "    tokens = [word for word in tokens if not word in stop_words]    # remove stop words\n",
    "\n",
    "    stemmer = PorterStemmer()    #stemming tokens\n",
    "    tokens = [stemmer.stem(word) for word in tokens]\n",
    "    \n",
    "    lemmatizer = WordNetLemmatizer()   #lemmatizing tokens\n",
    "    tokens = [lemmatizer.lemmatize(word) for word in tokens]\n",
    "    \n",
    "    return tokens"
   ]
  },
  {
   "cell_type": "code",
   "execution_count": 3,
   "metadata": {},
   "outputs": [],
   "source": [
    "# get a list of all files in the directory\n",
    "def getFilesList(folder):\n",
    "    dir_list = listdir(folder)\n",
    "    files = {}\n",
    "    for i in dir_list:\n",
    "        path = folder+i+\"/\"\n",
    "        diri = listdir(path)\n",
    "        # print(len(diri))\n",
    "        # print(diri)\n",
    "        files[i] = []\n",
    "        for j in diri:\n",
    "            filepath = path+j\n",
    "            files[i].append(filepath)\n",
    "            # print(filepath)\n",
    "            # break\n",
    "\n",
    "    # for i in files:\n",
    "    #     print(len(files[i]))\n",
    "    return files"
   ]
  },
  {
   "cell_type": "code",
   "execution_count": 7,
   "metadata": {},
   "outputs": [
    {
     "ename": "KeyboardInterrupt",
     "evalue": "",
     "output_type": "error",
     "traceback": [
      "\u001b[1;31m---------------------------------------------------------------------------\u001b[0m",
      "\u001b[1;31mKeyboardInterrupt\u001b[0m                         Traceback (most recent call last)",
      "\u001b[1;32mc:\\Users\\drbn\\OneDrive\\Documents\\IIITD\\Sem 6\\IR\\hw2\\IR2022_A2_13\\Q3.ipynb Cell 4'\u001b[0m in \u001b[0;36m<cell line: 5>\u001b[1;34m()\u001b[0m\n\u001b[0;32m      <a href='vscode-notebook-cell:/c%3A/Users/drbn/OneDrive/Documents/IIITD/Sem%206/IR/hw2/IR2022_A2_13/Q3.ipynb#ch0000003?line=5'>6</a>\u001b[0m textFolderwise[folder] \u001b[39m=\u001b[39m []\n\u001b[0;32m      <a href='vscode-notebook-cell:/c%3A/Users/drbn/OneDrive/Documents/IIITD/Sem%206/IR/hw2/IR2022_A2_13/Q3.ipynb#ch0000003?line=6'>7</a>\u001b[0m \u001b[39mfor\u001b[39;00m file \u001b[39min\u001b[39;00m flist[folder]:\n\u001b[0;32m      <a href='vscode-notebook-cell:/c%3A/Users/drbn/OneDrive/Documents/IIITD/Sem%206/IR/hw2/IR2022_A2_13/Q3.ipynb#ch0000003?line=7'>8</a>\u001b[0m     \u001b[39m# print(file)\u001b[39;00m\n\u001b[1;32m----> <a href='vscode-notebook-cell:/c%3A/Users/drbn/OneDrive/Documents/IIITD/Sem%206/IR/hw2/IR2022_A2_13/Q3.ipynb#ch0000003?line=8'>9</a>\u001b[0m     text \u001b[39m=\u001b[39m \u001b[39mopen\u001b[39;49m(file,\u001b[39m'\u001b[39;49m\u001b[39mr\u001b[39;49m\u001b[39m'\u001b[39;49m,encoding\u001b[39m=\u001b[39;49m\u001b[39m'\u001b[39;49m\u001b[39mISO-8859-1\u001b[39;49m\u001b[39m'\u001b[39;49m)\u001b[39m.\u001b[39mread()\n\u001b[0;32m     <a href='vscode-notebook-cell:/c%3A/Users/drbn/OneDrive/Documents/IIITD/Sem%206/IR/hw2/IR2022_A2_13/Q3.ipynb#ch0000003?line=9'>10</a>\u001b[0m     tokens \u001b[39m=\u001b[39m preprocessing(text)\n\u001b[0;32m     <a href='vscode-notebook-cell:/c%3A/Users/drbn/OneDrive/Documents/IIITD/Sem%206/IR/hw2/IR2022_A2_13/Q3.ipynb#ch0000003?line=10'>11</a>\u001b[0m     textFolderwise[folder]\u001b[39m.\u001b[39mappend(tokens)\n",
      "File \u001b[1;32mC:\\Program Files\\WindowsApps\\PythonSoftwareFoundation.Python.3.10_3.10.1264.0_x64__qbz5n2kfra8p0\\lib\\codecs.py:260\u001b[0m, in \u001b[0;36mIncrementalDecoder.__init__\u001b[1;34m(self, errors)\u001b[0m\n\u001b[0;32m    <a href='file:///c%3A/Program%20Files/WindowsApps/PythonSoftwareFoundation.Python.3.10_3.10.1264.0_x64__qbz5n2kfra8p0/lib/codecs.py?line=253'>254</a>\u001b[0m \u001b[39mclass\u001b[39;00m \u001b[39mIncrementalDecoder\u001b[39;00m(\u001b[39mobject\u001b[39m):\n\u001b[0;32m    <a href='file:///c%3A/Program%20Files/WindowsApps/PythonSoftwareFoundation.Python.3.10_3.10.1264.0_x64__qbz5n2kfra8p0/lib/codecs.py?line=254'>255</a>\u001b[0m     \u001b[39m\"\"\"\u001b[39;00m\n\u001b[0;32m    <a href='file:///c%3A/Program%20Files/WindowsApps/PythonSoftwareFoundation.Python.3.10_3.10.1264.0_x64__qbz5n2kfra8p0/lib/codecs.py?line=255'>256</a>\u001b[0m \u001b[39m    An IncrementalDecoder decodes an input in multiple steps. The input can\u001b[39;00m\n\u001b[0;32m    <a href='file:///c%3A/Program%20Files/WindowsApps/PythonSoftwareFoundation.Python.3.10_3.10.1264.0_x64__qbz5n2kfra8p0/lib/codecs.py?line=256'>257</a>\u001b[0m \u001b[39m    be passed piece by piece to the decode() method. The IncrementalDecoder\u001b[39;00m\n\u001b[0;32m    <a href='file:///c%3A/Program%20Files/WindowsApps/PythonSoftwareFoundation.Python.3.10_3.10.1264.0_x64__qbz5n2kfra8p0/lib/codecs.py?line=257'>258</a>\u001b[0m \u001b[39m    remembers the state of the decoding process between calls to decode().\u001b[39;00m\n\u001b[0;32m    <a href='file:///c%3A/Program%20Files/WindowsApps/PythonSoftwareFoundation.Python.3.10_3.10.1264.0_x64__qbz5n2kfra8p0/lib/codecs.py?line=258'>259</a>\u001b[0m \u001b[39m    \"\"\"\u001b[39;00m\n\u001b[1;32m--> <a href='file:///c%3A/Program%20Files/WindowsApps/PythonSoftwareFoundation.Python.3.10_3.10.1264.0_x64__qbz5n2kfra8p0/lib/codecs.py?line=259'>260</a>\u001b[0m     \u001b[39mdef\u001b[39;00m \u001b[39m__init__\u001b[39m(\u001b[39mself\u001b[39m, errors\u001b[39m=\u001b[39m\u001b[39m'\u001b[39m\u001b[39mstrict\u001b[39m\u001b[39m'\u001b[39m):\n\u001b[0;32m    <a href='file:///c%3A/Program%20Files/WindowsApps/PythonSoftwareFoundation.Python.3.10_3.10.1264.0_x64__qbz5n2kfra8p0/lib/codecs.py?line=260'>261</a>\u001b[0m         \u001b[39m\"\"\"\u001b[39;00m\n\u001b[0;32m    <a href='file:///c%3A/Program%20Files/WindowsApps/PythonSoftwareFoundation.Python.3.10_3.10.1264.0_x64__qbz5n2kfra8p0/lib/codecs.py?line=261'>262</a>\u001b[0m \u001b[39m        Create an IncrementalDecoder instance.\u001b[39;00m\n\u001b[0;32m    <a href='file:///c%3A/Program%20Files/WindowsApps/PythonSoftwareFoundation.Python.3.10_3.10.1264.0_x64__qbz5n2kfra8p0/lib/codecs.py?line=262'>263</a>\u001b[0m \n\u001b[1;32m   (...)\u001b[0m\n\u001b[0;32m    <a href='file:///c%3A/Program%20Files/WindowsApps/PythonSoftwareFoundation.Python.3.10_3.10.1264.0_x64__qbz5n2kfra8p0/lib/codecs.py?line=265'>266</a>\u001b[0m \u001b[39m        for a list of possible values.\u001b[39;00m\n\u001b[0;32m    <a href='file:///c%3A/Program%20Files/WindowsApps/PythonSoftwareFoundation.Python.3.10_3.10.1264.0_x64__qbz5n2kfra8p0/lib/codecs.py?line=266'>267</a>\u001b[0m \u001b[39m        \"\"\"\u001b[39;00m\n\u001b[0;32m    <a href='file:///c%3A/Program%20Files/WindowsApps/PythonSoftwareFoundation.Python.3.10_3.10.1264.0_x64__qbz5n2kfra8p0/lib/codecs.py?line=267'>268</a>\u001b[0m         \u001b[39mself\u001b[39m\u001b[39m.\u001b[39merrors \u001b[39m=\u001b[39m errors\n",
      "\u001b[1;31mKeyboardInterrupt\u001b[0m: "
     ]
    }
   ],
   "source": [
    "folderpath = \"20_newsgroups/\"\n",
    "flist = getFilesList(folderpath)\n",
    "\n",
    "textFolderwise = {}\n",
    "for folder in flist:\n",
    "    textFolderwise[folder] = []\n",
    "    for file in flist[folder]:\n",
    "        # print(file)\n",
    "        text = open(file,'r',encoding='ISO-8859-1').read()\n",
    "        tokens = preprocessing(text)\n",
    "        textFolderwise[folder].append(tokens)"
   ]
  }
 ],
 "metadata": {
  "deepnote": {
   "is_reactive": false
  },
  "deepnote_execution_queue": [],
  "deepnote_notebook_id": "bc7256ad-eea7-40f8-8a26-b0b200aee7a5",
  "interpreter": {
   "hash": "3a0c17cf44ae63ecae8bbfe3dd930ce5cd52d8df6fc82844b03d40572a42217b"
  },
  "kernelspec": {
   "display_name": "Python 3.10.4 64-bit (windows store)",
   "language": "python",
   "name": "python3"
  },
  "language_info": {
   "codemirror_mode": {
    "name": "ipython",
    "version": 3
   },
   "file_extension": ".py",
   "mimetype": "text/x-python",
   "name": "python",
   "nbconvert_exporter": "python",
   "pygments_lexer": "ipython3",
   "version": "3.10.4"
  },
  "orig_nbformat": 2
 },
 "nbformat": 4,
 "nbformat_minor": 2
}
